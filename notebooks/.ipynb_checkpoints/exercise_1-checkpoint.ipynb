{
 "cells": [
  {
   "cell_type": "code",
   "execution_count": 1,
   "metadata": {
    "collapsed": false
   },
   "outputs": [],
   "source": [
    "#!/usr/bin/env python3\n",
    "import numpy as np\n",
    "#import cPickle\n",
    "import _pickle as cPickle #python3.x cPickle has changed from cPickle to _pickle or use pickle\n",
    "import os\n",
    "import gzip"
   ]
  },
  {
   "cell_type": "markdown",
   "metadata": {},
   "source": [
    "# First exercise: Classifying MNIST with MLPs\n",
    "In this exercise you will implement a Neural Network (or MLP) and classify the MNIST digits with it.\n",
    "MNIST is a \"well hung\" dataset that has been used a lot over the years to benchmark different classification algorithms. \n",
    "To learn more about it have a look here: http://yann.lecun.com/exdb/mnist/ ."
   ]
  },
  {
   "cell_type": "markdown",
   "metadata": {},
   "source": [
    "# Data Loading\n",
    "We first define a function for downloading and loading MNIST.\n",
    "**WARNING**: Executing it will obviously use up some space on your machine ;). "
   ]
  },
  {
   "cell_type": "code",
   "execution_count": 2,
   "metadata": {
    "collapsed": false
   },
   "outputs": [],
   "source": [
    "def mnist(datasets_dir='./data'):\n",
    "    if not os.path.exists(datasets_dir):\n",
    "        os.mkdir(datasets_dir)\n",
    "    data_file = os.path.join(datasets_dir, 'mnist.pkl.gz')\n",
    "    if not os.path.exists(data_file):\n",
    "        print('... downloading MNIST from the web')\n",
    "        try:\n",
    "            import urllib\n",
    "            urllib.urlretrieve('http://google.com')\n",
    "        except AttributeError:\n",
    "            import urllib.request as urllib\n",
    "        url = 'http://www.iro.umontreal.ca/~lisa/deep/data/mnist/mnist.pkl.gz'\n",
    "        urllib.urlretrieve(url, data_file)\n",
    "\n",
    "    print('... loading data')\n",
    "    # Load the dataset\n",
    "    f = gzip.open(data_file, 'rb')\n",
    "    \n",
    "    try:\n",
    "        #test = np.array(cPickle.load(f, encoding=\"latin1\"))\n",
    "        #for x in test:\n",
    "        #    print(\"shape: {}\".format(np.shape(x)))\n",
    "        #train_set =test[0]\n",
    "        #valid_set =test[1]\n",
    "        #test_set = test[2]\n",
    "        train_set, valid_set, test_set = cPickle.load(f, encoding=\"latin1\")\n",
    "    except TypeError:\n",
    "        train_set, valid_set, test_set = cPickle.load(f)\n",
    "    f.close()\n",
    "    #print (\"train_set\",train_set)\n",
    "    #print (\"valid_set\",valid_set)\n",
    "    #print (\"test_set\",test_set)\n",
    "    test_x = test_set[0]\n",
    "    test_y = test_set[1]\n",
    "    test_x = test_x.astype('float32')\n",
    "    test_x = test_x.astype('float32').reshape(test_x.shape[0], 1, 28, 28)\n",
    "    test_y = test_y.astype('int32')\n",
    "    valid_x, valid_y = valid_set\n",
    "    valid_x = valid_x.astype('float32')\n",
    "    valid_x = valid_x.astype('float32').reshape(valid_x.shape[0], 1, 28, 28)\n",
    "    valid_y = valid_y.astype('int32')\n",
    "    train_x, train_y = train_set\n",
    "    train_x = train_x.astype('float32').reshape(train_x.shape[0], 1, 28, 28)\n",
    "    train_y = train_y.astype('int32')\n",
    "    rval = [(train_x, train_y), (valid_x, valid_y), (test_x, test_y)]\n",
    "    print('... done loading data')\n",
    "    return rval"
   ]
  },
  {
   "cell_type": "markdown",
   "metadata": {},
   "source": [
    "# Neural Network Layers\n",
    "We now define \"bare bone\" neural network layers.\n",
    "The parts marked with **TODO** are where you should finish the implementation!\n",
    "Conceptually we will implement the layers as follows:\n",
    "\n",
    "Each layer has a constructor that takes an input layer plus some additional arguments such as layer size and the activation function name. The layer then uses the provided input layer to compute the layer dimensions, weight shapes, etc. and setup all auxilliary variables.\n",
    "\n",
    "Each layer then has to provide three functions (as defined in the Layer class below): *output_shape()*, *fprop()* and *brop()*. The output_shape function is used to figure out the shape for the next layer and the *fprop()/bprop()* functions are used to compute forward and backward passes through the network."
   ]
  },
  {
   "cell_type": "markdown",
   "metadata": {},
   "source": [
    "# Neural Network class\n",
    "With all layers in place (and properly implemented by you) we can finally define a neural network.\n",
    "For our purposes a neural network is simply a collection of layers which we will cycle through and on which we will call fprop and bprop to compute partial derivatives with respect to the input and the parameters.\n",
    "\n",
    "Pay special attention to the *check_gradients()* function in which you should implement automatic differentiation. This function will become your best friend when checking the correctness of your implementation."
   ]
  },
  {
   "cell_type": "code",
   "execution_count": 3,
   "metadata": {
    "collapsed": false
   },
   "outputs": [],
   "source": [
    "\n",
    "# start by defining simple helpers\n",
    "# start by defining simple helpers\n",
    "# ####################################\n",
    "def sigmoid(x):\n",
    "    return 1.0/(1.0+np.exp(-x))\n",
    "\n",
    "def sigmoid_d(x):\n",
    "    s = sigmoid(x)\n",
    "    return s*(1-s)\n",
    "\n",
    "def tanh(x):\n",
    "    return np.tanh(x)\n",
    "\n",
    "def tanh_d(x):\n",
    "    t = np.tanh(x)**2\n",
    "    return 1. - t\n",
    "\n",
    "def relu(x):\n",
    "    return np.maximum(0.0, x)\n",
    "\n",
    "def relu_d(x):\n",
    "    dx = np.zeros(x.shape)\n",
    "    dx[x >= 0] = 1\n",
    "    return dx\n",
    "# ####################################\n",
    "\n",
    "def softmax(x, axis=1):\n",
    "    # to make the softmax a \"safe\" operation we will \n",
    "    # first subtract the maximum along the specified axis\n",
    "    # so that np.exp(x) does not blow up!\n",
    "    # Note that this does not change the output.\n",
    "    x_max = np.max(x, axis=axis, keepdims=True)\n",
    "    x_safe = x - x_max\n",
    "    e_x = np.exp(x_safe)\n",
    "    return e_x / np.sum(e_x, axis=axis, keepdims=True)\n",
    "\n",
    "def one_hot(labels):\n",
    "    \"\"\"this creates a one hot encoding from a flat vector:\n",
    "    i.e. given y = [0,2,1]\n",
    "     it creates y_one_hot = [[1,0,0], [0,0,1], [0,1,0]]\n",
    "    \"\"\"\n",
    "    classes = np.unique(labels)\n",
    "    n_classes = classes.size\n",
    "    one_hot_labels = np.zeros(labels.shape + (n_classes,))\n",
    "    for c in classes:\n",
    "        one_hot_labels[labels == c, c] = 1\n",
    "    return one_hot_labels\n",
    "\n",
    "def unhot(one_hot_labels):\n",
    "    \"\"\" Invert a one hot encoding, creating a flat vector \"\"\"\n",
    "    return np.argmax(one_hot_labels, axis=-1)\n",
    "\n",
    "# then define an activation function class\n",
    "class Activation(object):\n",
    "    \n",
    "    def __init__(self, tname = None):\n",
    "        #################################\n",
    "        if tname is None:\n",
    "            self.act = None\n",
    "            self.act_d = None    \n",
    "            return\n",
    "        #################################\n",
    "        if tname == 'sigmoid':\n",
    "            self.act = sigmoid\n",
    "            self.act_d = sigmoid_d\n",
    "        elif tname == 'tanh':\n",
    "            self.act = tanh\n",
    "            self.act_d = tanh_d\n",
    "        elif tname == 'relu':\n",
    "            self.act = relu\n",
    "            self.act_d = relu_d\n",
    "        else:\n",
    "            raise ValueError('Invalid activation function.')\n",
    "            \n",
    "    def fprop(self, input):\n",
    "        # we need to remember the last input\n",
    "        # so that we can calculate the derivative with respect\n",
    "        # to it later on\n",
    "        self.last_input = input\n",
    "        #################################\n",
    "        if self.act is not None:\n",
    "            return self.act(input)\n",
    "        else:\n",
    "            return input\n",
    "        #################################\n",
    "    \n",
    "    def bprop(self, output_grad):\n",
    "        #################################\n",
    "        if self.act_d is not None:\n",
    "            return output_grad * self.act_d(self.last_input)\n",
    "        else:\n",
    "            return output_grad #not multi wihth last in* self.last_input\n",
    "        #################################\n",
    "\n",
    "# define a base class for layers\n",
    "class Layer(object):\n",
    "    \n",
    "    def fprop(self, input):\n",
    "        \"\"\" Calculate layer output for given input \n",
    "            (forward propagation). \n",
    "        \"\"\"\n",
    "        raise NotImplementedError()\n",
    "\n",
    "    def bprop(self, output_grad):\n",
    "        \"\"\" Calculate input gradient and gradient \n",
    "            with respect to weights and bias (backpropagation). \n",
    "        \"\"\"\n",
    "        raise NotImplementedError()\n",
    "\n",
    "    def output_size(self):\n",
    "        \"\"\" Calculate size of this layer's output.\n",
    "        input_shape[0] is the number of samples in the input.\n",
    "        input_shape[1:] is the shape of the feature.\n",
    "        \"\"\"\n",
    "        raise NotImplementedError()\n",
    "\n",
    "# define a base class for loss outputs\n",
    "# an output layer can then simply be derived\n",
    "# from both Layer and Loss \n",
    "class Loss(object):\n",
    "\n",
    "    def loss(self, output, output_net):\n",
    "        \"\"\" Calculate mean loss given real output and network output. \"\"\"\n",
    "        raise NotImplementedError()\n",
    "\n",
    "    def input_grad(self, output, output_net):\n",
    "        \"\"\" Calculate input gradient real output and network output. \"\"\"\n",
    "        raise NotImplementedError()\n",
    "\n",
    "# define a base class for parameterized things        \n",
    "class Parameterized(object):\n",
    "    \n",
    "    def params(self):\n",
    "        \"\"\" Return parameters (by reference) \"\"\"\n",
    "        raise NotImplementedError()\n",
    "    \n",
    "    def grad_params(self):\n",
    "        \"\"\" Return accumulated gradient with respect to params. \"\"\"\n",
    "        raise NotImplementedError()\n",
    "\n",
    "# define a container for providing input to the network\n",
    "class InputLayer(Layer):\n",
    "    \n",
    "    def __init__(self, input_shape):\n",
    "        if not isinstance(input_shape, tuple):\n",
    "            raise ValueError(\"InputLayer requires input_shape as a tuple\")\n",
    "        self.input_shape = input_shape\n",
    "\n",
    "    def output_size(self):\n",
    "        return self.input_shape\n",
    "    \n",
    "    def fprop(self, input):\n",
    "        return input\n",
    "    \n",
    "    def bprop(self, output_grad):\n",
    "        return output_grad\n",
    "        \n",
    "class FullyConnectedLayer(Layer, Parameterized):\n",
    "    \"\"\" A standard fully connected hidden layer, as discussed in the lecture.\n",
    "    \"\"\"\n",
    "    \n",
    "    def __init__(self, input_layer, num_units, \n",
    "                 init_stddev, activation_fun=Activation('relu')):\n",
    "        self.num_units = num_units\n",
    "        self.activation_fun = activation_fun\n",
    "        # the input shape will be of size (batch_size, num_units_prev) \n",
    "        # where num_units_prev is the number of units in the input \n",
    "        # (previous) layer\n",
    "        self.input_shape = input_layer.output_size()\n",
    "        #################################\n",
    "        if self.activation_fun is None:\n",
    "            self.activation_fun = Activation()\n",
    "        # implement weight initialization\n",
    "         # this is the weight matrix it should have shape: (num_units_prev, num_units)\n",
    "        self.W = np.random.randn(self.input_shape[1], self.num_units) * init_stddev\n",
    "        # and this is the bias vector of shape: (num_units)\n",
    "        self.b =np.zeros(self.num_units)\n",
    "        # ################################\n",
    "   \n",
    "        # create dummy variables for parameter gradients\n",
    "        # no need to change these here!\n",
    "        self.dW = None\n",
    "        self.db = None\n",
    "    \n",
    "    def output_size(self):\n",
    "        return (self.input_shape[0], self.num_units)\n",
    "    \n",
    "     #  ################################################\n",
    "    def _activation(self, act, val):\n",
    "        if act is None:\n",
    "            #print(\"warning linear system!\")\n",
    "            return val\n",
    "        else:\n",
    "            return act(val)\n",
    "         #  ################################################\n",
    "        \n",
    "    def fprop(self, input):\n",
    "        self.last_input = input\n",
    "        #  ################################################\n",
    "        # implement forward propagation\n",
    "        # NOTE: you should also handle the case were \n",
    "        #       activation_fun is None (meaning no activation)\n",
    "        #       then this is simply a linear layer\n",
    "        pre_act = input @ self.W + self.b\n",
    "        return self._activation(self.activation_fun.fprop, pre_act)\n",
    "\n",
    "        #  ################################################\n",
    "        \n",
    "    def bprop(self, output_grad):\n",
    "        \"\"\" Calculate input gradient (backpropagation). \"\"\"\n",
    "\n",
    "        n = output_grad.shape[0]\n",
    "        #print(\"FullyConnectedLayer bprop\")\n",
    "        # ################################\n",
    "        #  implement backward propagation\n",
    "                # HINT: you may have to divide the weights by n\n",
    "        #       to make gradient checking work \n",
    "        #       (since you want to divide the loss by number of inputs)\n",
    "                # accumulate gradient wrt. the parameters first\n",
    "        # we will need to store these to later update\n",
    "        # the network after a few forward backward passes\n",
    "        # the gradient wrt. the input should be calculated here\n",
    "        output_grad_privious = self._activation(self.activation_fun.bprop, output_grad)\n",
    "        # the gradient wrt. b should be stored as selfdb\n",
    "        self.db = np.mean(output_grad_privious, axis = 0)\n",
    "        # the gradient wrt. W should be stored as self.dW\n",
    "        self.dW = self.last_input.T @ output_grad_privious / n\n",
    "\n",
    "        return output_grad_privious @ self.W.T # input grad \n",
    "        #  ###############################\n",
    "        \n",
    "    def params(self):\n",
    "        return self.W, self.b\n",
    "\n",
    "    def grad_params(self):\n",
    "        return self.dW, self.db\n",
    "\n",
    "# finally we specify the interface for output layers \n",
    "# which are layers that also have a loss function\n",
    "# we will implement two output layers:\n",
    "#  a Linear, and Softmax (Logistic Regression) layer\n",
    "# The difference between output layers and and normal \n",
    "# layers is that they will be called to compute the gradient\n",
    "# of the loss through input_grad(). bprop will never \n",
    "# be called on them!\n",
    "class LinearOutput(Layer, Loss):\n",
    "    \"\"\" A simple linear output layer that  \n",
    "        uses a squared loss (e.g. should be used for regression)\n",
    "    \"\"\"\n",
    "    def __init__(self, input_layer):\n",
    "        self.input_size = input_layer.output_size()\n",
    "        \n",
    "    def output_size(self):\n",
    "        return (1,)\n",
    "        \n",
    "    def fprop(self, input):\n",
    "        return input\n",
    "\n",
    "    def bprop(self, output_grad):\n",
    "        raise NotImplementedError(\n",
    "            'LinearOutput should only be used as the last layer of a Network'\n",
    "            + ' bprop() should thus never be called on it!'\n",
    "        )\n",
    "    \n",
    "    def input_grad(self, Y, Y_pred):\n",
    "         # ####################################\n",
    "        # implement gradient of squared loss\n",
    "        #return Y_pred - Y\n",
    "        return -(Y - Y_pred)\n",
    "        # ####################################       \n",
    "\n",
    "\n",
    "    def loss(self, Y, Y_pred):\n",
    "        loss = 0.5 * np.square(Y - Y_pred)\n",
    "        return np.mean(np.sum(loss, axis=1))\n",
    "\n",
    "class SoftmaxOutput(Layer, Loss):\n",
    "    \"\"\" A softmax output layer that calculates \n",
    "        the negative log likelihood as loss\n",
    "        and should be used for classification.\n",
    "    \"\"\"\n",
    "    \n",
    "    def __init__(self, input_layer):\n",
    "        self.input_size = input_layer.output_size()\n",
    "        \n",
    "    def output_size(self):\n",
    "        return (1,)\n",
    "    \n",
    "    def fprop(self, input):\n",
    "        return softmax(input)\n",
    "    \n",
    "    def bprop(self, output_grad):\n",
    "        raise NotImplementedError(\n",
    "            'SoftmaxOutput should only be used as the last layer of a Network'\n",
    "            + ' bprop() should thus never be called on it!'\n",
    "        )\n",
    "    \n",
    "    def input_grad(self, Y, Y_pred):\n",
    "        # ####################################\n",
    "        # implement gradient of squared loss\n",
    "        #return Y_pred - Y\n",
    "        return -(Y - Y_pred)\n",
    "        # ####################################       \n",
    "\n",
    "\n",
    "    def loss(self, Y, Y_pred):\n",
    "        # Assume one-hot encoding of Y\n",
    "        # and Y_pred is softmax already\n",
    "        eps = 1e-10\n",
    "        out = Y_pred\n",
    "        # negative log likelihood\n",
    "        loss = -np.sum(Y * np.log(Y_pred + eps))\n",
    "        return np.mean(loss / Y.shape[0])"
   ]
  },
  {
   "cell_type": "code",
   "execution_count": 55,
   "metadata": {
    "collapsed": false
   },
   "outputs": [],
   "source": [
    "\n",
    "class NeuralNetwork:\n",
    "    \"\"\" Our Neural Network container class.\n",
    "    \"\"\"\n",
    "    def __init__(self, layers):\n",
    "        self.layers = layers\n",
    "        # ##########################################\n",
    "        #plots after the training\n",
    "        self.train_error = [] \n",
    "        self.valid_error = [] \n",
    "        self.data_error_classification = []\n",
    "        self.data_error_classification_prediction = []\n",
    "        self.data_error_classification_real = []\n",
    "        # ##########################################\n",
    "        \n",
    "    def _loss(self, X, Y):\n",
    "        Y_pred = self.predict(X)\n",
    "        return self.layers[-1].loss(Y, Y_pred)\n",
    "\n",
    "    def predict(self, X):\n",
    "        \"\"\" Calculate an output Y for the given input X. \"\"\"\n",
    "        Y_pred = X\n",
    "        # ##########################################\n",
    "        # implement forward pass through all layers\n",
    "        for l in self.layers:\n",
    "            Y_pred = l.fprop(Y_pred)#input sthe prev prediction\n",
    "        return Y_pred \n",
    "        # ##########################################\n",
    "        \n",
    "    def backpropagate(self, Y, Y_pred, upto=0):\n",
    "        \"\"\" Backpropagation of partial derivatives through \n",
    "            the complete network up to layer 'upto'\n",
    "        \"\"\"\n",
    "        next_grad = self.layers[-1].input_grad(Y, Y_pred)\n",
    "        # ##########################################\n",
    "        #  implement backward pass through all layers\n",
    "        #print(\"backpropagate\")\n",
    "        #for l in self.layers[upto::-1]:#reverse\n",
    "        for l in reversed(self.layers[upto:-1]):\n",
    "            next_grad = l.bprop(next_grad)\n",
    "        # ##########################################\n",
    "        return next_grad\n",
    "    \n",
    "    def classification_error(self, X, Y, save_index_error = False):\n",
    "        \"\"\" Calculate error on the given data \n",
    "            assuming they are classes that should be predicted. \n",
    "        \"\"\"\n",
    "        Y_pred = unhot(self.predict(X))\n",
    "        error = Y_pred != Y\n",
    "\n",
    "        if save_index_error:\n",
    "            #save img to plot later\n",
    "            self.data_error_classification = X[error]\n",
    "            self.data_error_classification_prediction = Y_pred[error]\n",
    "            self.data_error_classification_real = Y[error]\n",
    "        return np.mean(error)\n",
    "    \n",
    "    def sgd_epoch(self, X, Y, learning_rate, batch_size):\n",
    "        n_samples = X.shape[0]\n",
    "        n_batches = n_samples // batch_size\n",
    "        # #####################################\n",
    "        for b_n in range(n_batches):\n",
    "            \n",
    "            # Implement stochastic gradient descent here\n",
    "            # (you can assume the inputs are already shuffled)\n",
    "            \n",
    "            # start by extracting a batch from X and Y\n",
    "            start = b_n * batch_size\n",
    "            end = start + batch_size\n",
    "            #if end > X.shape[0]:\n",
    "            #    end = X.shape[0]\n",
    "            x_batch = X[start:end]\n",
    "            y_batch = Y[start:end]\n",
    "            # then forward and backward propagation\n",
    "            self.backpropagate(y_batch, self.predict(x_batch))\n",
    "            #update\n",
    "            for layer in self.layers:\n",
    "                if isinstance(layer, FullyConnectedLayer):\n",
    "                    for params, grad_params in zip(layer.params(), layer.grad_params()):\n",
    "                        params -= learning_rate * grad_params# HINT: layer.params() returns parameters *by reference*\n",
    "            # #####################################\n",
    "  \n",
    "    \n",
    "    def gd_epoch(self, X, Y, learning_rate = 1e-6):\n",
    "        #error template note learning_rate as input in NeuralNetwork.train !\n",
    "        #   ##################################################\n",
    "        # Implement batch gradient descent here\n",
    "        # A few hints:\n",
    "        #   There are two strategies you can follow:\n",
    "        #   Either shove the whole dataset throught the network\n",
    "        #   at once (which can be problematic for large datasets)\n",
    "        #   or run through it batch wise as in the sgd approach\n",
    "        #   and accumulate the gradients for all parameters as\n",
    "        #   you go through the data. Either way you should then\n",
    "        #   do one gradient step after you went through the\n",
    "        #   complete dataset!\n",
    "         self.sgd_epoch(X, Y, learning_rate, X.size[0]) #one b\n",
    "        #   ##################################################\n",
    "\n",
    "    \n",
    "    def train(self, X, Y, X_valid, Y_valid, learning_rate=0.1, max_epochs=100, batch_size=64,\n",
    "              descent_type=\"sgd\", y_one_hot=True, do_print = True):\n",
    "\n",
    "        \"\"\" Train network on the given data. \"\"\"\n",
    "        n_samples = X.shape[0]\n",
    "        n_batches = n_samples // batch_size\n",
    "        if y_one_hot:\n",
    "            Y_train = one_hot(Y)\n",
    "        else:\n",
    "            Y_train = Y\n",
    "        print(\"... starting training\")\n",
    "        for e in range(max_epochs+1):\n",
    "            if descent_type == \"sgd\":\n",
    "                self.sgd_epoch(X, Y_train, learning_rate, batch_size)\n",
    "            elif descent_type == \"gd\":\n",
    "                self.gd_epoch(X, Y_train, learning_rate)\n",
    "            else:\n",
    "                raise NotImplementedError(\"Unknown gradient descent type {}\".format(descent_type))\n",
    "\n",
    "            # Output error on the training data\n",
    "            train_loss = self._loss(X, Y_train)\n",
    "            train_error = self.classification_error(X, Y)\n",
    "     \n",
    "            #  ##################################################\n",
    "            # compute error on validation data:\n",
    "            # simply make the function take validation data as input\n",
    "            # and then compute errors here and print them\n",
    "\n",
    "            valid_error = self.classification_error(X_valid, Y_valid, save_index_error = (max_epochs==e))\n",
    "            if do_print:\n",
    "                print('epoch {:.4f}, loss {:.4f}, train error {:.4f} valid error {:.4f}'\\\n",
    "                      .format(e, train_loss, train_error, valid_error))\n",
    "            self.valid_error.append(valid_error)\n",
    "            self.train_error.append(train_error)\n",
    "            #  ##################################################\n",
    "    \n",
    "    def check_gradients(self, X, Y):\n",
    "        \"\"\" Helper function to test the parameter gradients for\n",
    "        correctness. \"\"\"\n",
    "        for l, layer in enumerate(self.layers):\n",
    "            if isinstance(layer, Parameterized):\n",
    "                print('checking gradient for layer {}'.format(l))\n",
    "                for p, param in enumerate(layer.params()):\n",
    "                    # we iterate through all parameters\n",
    "                    param_shape = param.shape\n",
    "                    # define functions for conveniently swapping\n",
    "                    # out parameters of this specific layer and \n",
    "                    # computing loss and gradient with these \n",
    "                    # changed parametrs\n",
    "                    def output_given_params(param_new):\n",
    "                        \"\"\" A function that will compute the output \n",
    "                            of the network given a set of parameters\n",
    "                        \"\"\"\n",
    "                        # copy provided parameters\n",
    "                        param[:] = np.reshape(param_new, param_shape)\n",
    "                        # return computed loss\n",
    "                        return self._loss(X, Y)\n",
    "\n",
    "                    def grad_given_params(param_new):\n",
    "                        \"\"\"A function that will compute the gradient \n",
    "                           of the network given a set of parameters\n",
    "                        \"\"\"\n",
    "                        # copy provided parameters\n",
    "                        param[:] = np.reshape(param_new, param_shape)\n",
    "                        # Forward propagation through the net\n",
    "                        Y_pred = self.predict(X)\n",
    "                        # Backpropagation of partial derivatives\n",
    "                        self.backpropagate(Y, Y_pred, upto=l)\n",
    "                        # return the computed gradient \n",
    "                        return np.ravel(self.layers[l].grad_params()[p])\n",
    "\n",
    "                    # let the initial parameters be the ones that\n",
    "                    # are currently placed in the network and flatten them\n",
    "                    # to a vector for convenient comparisons, printing etc.\n",
    "                    param_init = np.ravel(np.copy(param))\n",
    "                    \n",
    "                    epsilon = 1e-4\n",
    "                    loss_base = output_given_params(param_init)\n",
    "                    #  ####################################\n",
    "                    #  compute the gradient with respect to\n",
    "                    #      the initial parameters in two ways:\n",
    "                    #      1) with grad_given_params()\n",
    "                    #      2) with finite differences \n",
    "                    #         using output_given_params()\n",
    "                    #         (as discussed in the lecture)\n",
    "                    #      if your implementation is correct \n",
    "                    #      both results should be epsilon close\n",
    "                    #      to each other!\n",
    "                      # making sure your gradient checking routine itself \n",
    "                    # has no errors can be a bit tricky. To debug it\n",
    "                    # you can \"cheat\" by using scipy which implements\n",
    "                    # gradient checking exactly the way you should!\n",
    "                    # To do that simply run the following here:\n",
    "                    #import scipy.optimize\n",
    "                    #err = scipy.optimize.check_grad(output_given_params, \n",
    "                    #                                grad_given_params, param_init)\n",
    "                    gparam_bprop = grad_given_params(param_init)\n",
    "                    gparam_fd = np.zeros_like(param_init)\n",
    "                    for i in range(len(param_init)):\n",
    "                        param_init[i] += epsilon\n",
    "                        gparam_fd[i] = (output_given_params(param_init) - loss_base) / (epsilon)\n",
    "                        param_init[i] -= epsilon\n",
    "                    \n",
    "                    err = np.mean(np.abs(gparam_bprop - gparam_fd))\n",
    "                    #  ####################################\n",
    "\n",
    "                    print('diff {:.2e}'.format(err))\n",
    "                    assert(err < epsilon)\n",
    "                    \n",
    "                    # reset the parameters to their initial values\n",
    "                    param[:] = np.reshape(param_init, param_shape)"
   ]
  },
  {
   "cell_type": "markdown",
   "metadata": {},
   "source": [
    "# Gradient Checking\n",
    "After implementing everything it is always a good idea to setup some layers and perform gradient\n",
    "checking on random data. **Note** that this is only an example! It is not a useful network architecture ;). We also expect you to play around with this to test all your implemented components."
   ]
  },
  {
   "cell_type": "code",
   "execution_count": 53,
   "metadata": {
    "collapsed": true
   },
   "outputs": [],
   "source": [
    "input_shape = (5, 10)\n",
    "n_labels = 6\n",
    "layers = [InputLayer(input_shape)]\n",
    "\n",
    "layers.append(FullyConnectedLayer(\n",
    "                layers[-1],\n",
    "                num_units=15,\n",
    "                init_stddev=0.1,\n",
    "                activation_fun=Activation('relu')\n",
    "))\n",
    "layers.append(FullyConnectedLayer(\n",
    "                layers[-1],\n",
    "                num_units=6,\n",
    "                init_stddev=0.1,\n",
    "                activation_fun=Activation('tanh')\n",
    "))\n",
    "layers.append(FullyConnectedLayer(\n",
    "                layers[-1],\n",
    "                num_units=n_labels,\n",
    "                init_stddev=0.1,\n",
    "                activation_fun=Activation('relu')\n",
    "))\n",
    "layers.append(SoftmaxOutput(layers[-1]))\n",
    "nn = NeuralNetwork(layers)"
   ]
  },
  {
   "cell_type": "code",
   "execution_count": null,
   "metadata": {
    "collapsed": false
   },
   "outputs": [],
   "source": []
  },
  {
   "cell_type": "code",
   "execution_count": 6,
   "metadata": {
    "collapsed": true
   },
   "outputs": [],
   "source": [
    "# create random data\n",
    "X = np.random.normal(size=input_shape)\n",
    "# and random labels\n",
    "Y = np.zeros((input_shape[0], n_labels))\n",
    "for i in range(Y.shape[0]):\n",
    "    idx = np.random.randint(n_labels)\n",
    "    Y[i, idx] = 1."
   ]
  },
  {
   "cell_type": "code",
   "execution_count": 7,
   "metadata": {
    "collapsed": false
   },
   "outputs": [
    {
     "name": "stdout",
     "output_type": "stream",
     "text": [
      "checking gradient for layer 1\n",
      "diff 1.04e-08\n",
      "diff 6.21e-09\n",
      "checking gradient for layer 2\n",
      "diff 1.63e-08\n",
      "diff 1.35e-07\n",
      "checking gradient for layer 3\n",
      "diff 2.95e-08\n",
      "diff 3.03e-06\n"
     ]
    }
   ],
   "source": [
    "\n",
    "nn.check_gradients(X, Y)"
   ]
  },
  {
   "cell_type": "markdown",
   "metadata": {},
   "source": [
    "# Training on MNIST\n",
    "Finally we can let our network run on the MNIST dataset!"
   ]
  },
  {
   "cell_type": "markdown",
   "metadata": {},
   "source": [
    "First load the data and reshape it."
   ]
  },
  {
   "cell_type": "code",
   "execution_count": 41,
   "metadata": {
    "collapsed": false
   },
   "outputs": [
    {
     "name": "stdout",
     "output_type": "stream",
     "text": [
      "... loading data\n",
      "... done loading data\n"
     ]
    }
   ],
   "source": [
    "# load\n",
    "Dtrain, Dval, Dtest = mnist()\n",
    "X_train, y_train = Dtrain\n",
    "X_valid, y_valid = Dval\n",
    "X_test, y_test = Dtest\n",
    "# Downsample training data to make it a bit faster for testing this code\n",
    "n_train_samples = 40000 # increased number of training data\n",
    "train_idxs = np.random.permutation(X_train.shape[0])[:n_train_samples]\n",
    "X_train = X_train[train_idxs]\n",
    "y_train = y_train[train_idxs]"
   ]
  },
  {
   "cell_type": "markdown",
   "metadata": {},
   "source": [
    "*Dtrain* contains 50k images which are of size 28 x 28 pixels. Hence:"
   ]
  },
  {
   "cell_type": "code",
   "execution_count": 42,
   "metadata": {
    "collapsed": false
   },
   "outputs": [
    {
     "name": "stdout",
     "output_type": "stream",
     "text": [
      "X_train shape: (40000, 1, 28, 28)\n",
      "y_train shape: (40000,)\n",
      "X_valid shape: (10000, 1, 28, 28)\n"
     ]
    }
   ],
   "source": [
    "print(\"X_train shape: {}\".format(np.shape(X_train)))\n",
    "print(\"y_train shape: {}\".format(np.shape(y_train)))\n",
    "print(\"X_valid shape: {}\".format(np.shape(X_test)))"
   ]
  },
  {
   "cell_type": "markdown",
   "metadata": {},
   "source": [
    "y_train will automatically be converted in the *train()* function to one_hot encoding.\n",
    "\n",
    "\n",
    "But we need to reshape X_train, as our Network expects flat vectors of size 28*28 as input!"
   ]
  },
  {
   "cell_type": "code",
   "execution_count": 44,
   "metadata": {
    "collapsed": false
   },
   "outputs": [
    {
     "name": "stdout",
     "output_type": "stream",
     "text": [
      "Reshaped X_train size: (40000, 784)\n",
      "Reshaped X_valid size: (10000, 784)\n",
      "Reshaped X_test size: (10000, 784)\n"
     ]
    }
   ],
   "source": [
    "X_train = X_train.reshape(X_train.shape[0], -1)\n",
    "print(\"Reshaped X_train size: {}\".format(X_train.shape))\n",
    "X_valid = X_valid.reshape((X_valid.shape[0], -1))\n",
    "print(\"Reshaped X_valid size: {}\".format(X_valid.shape))\n",
    "X_test = X_test.reshape((X_test.shape[0], -1))\n",
    "print(\"Reshaped X_test size: {}\".format(X_test.shape))"
   ]
  },
  {
   "cell_type": "markdown",
   "metadata": {},
   "source": [
    "Ah, much better ;-)! \n",
    "\n",
    "Now we can finally really start training a Network!\n",
    "\n",
    "\n",
    "I pre-defined a small Network for you below. Again This is not really a good default and will not produce state of the art results. Please play around with this a bit. See how different activation functions and training procedures (gd / sgd) affect the result."
   ]
  },
  {
   "cell_type": "code",
   "execution_count": 11,
   "metadata": {
    "collapsed": true
   },
   "outputs": [],
   "source": [
    "#shuffle the data with sklearn\n",
    "from sklearn.utils import shuffle\n",
    "X_train, y_train = shuffle(X_train, y_train, random_state=0)"
   ]
  },
  {
   "cell_type": "code",
   "execution_count": 49,
   "metadata": {
    "collapsed": false
   },
   "outputs": [
    {
     "data": {
      "image/png": "[encoded data removed]",
      "text/plain": [
       "<matplotlib.figure.Figure at 0x1093eaa90>"
      ]
     },
     "metadata": {},
     "output_type": "display_data"
    }
   ],
   "source": [
    "#visualization\n",
    "%matplotlib inline\n",
    "\n",
    "import matplotlib\n",
    "import numpy as np\n",
    "import matplotlib.pyplot as plt\n",
    "import matplotlib.cm as cm\n",
    "\n",
    "\n",
    "def plot_number(data, ax = None,title = None):\n",
    "    ''' helper to plot a number form the MNIST data set'''\n",
    "    \n",
    "    if ax is None:\n",
    "        plt.axis('off')\n",
    "        plt.imshow(np.reshape(data, (28, 28)), cmap=cm.gray, vmin=0, vmax=1)\n",
    "        if title is not None:\n",
    "            plt.title(title)\n",
    "    else:\n",
    "        ax.set_axis_off()\n",
    "        ax.imshow(np.reshape(data, (28, 28)), cmap=cm.gray, vmin=0, vmax=1)\n",
    "        if title is not None:\n",
    "            ax.set_title(title)\n",
    "    \n",
    "    \n",
    "def plt_nn_valid_error(network):\n",
    "    ''' plt the valitastion error of the network '''\n",
    "    print('last valid_error: {:.3f}'.format(network.valid_error[-1]))\n",
    "    epoch_x = np.arange(len(network.valid_error))\n",
    "    line_val, = plt.plot(epoch_x, network.valid_error, label=\"validation error\")\n",
    "    line_train, =  plt.plot(epoch_x, network.train_error, label=\"training error\")\n",
    "    plt.ylabel('error in percent')\n",
    "    plt.xlabel('epochs')\n",
    "    plt.legend(handles=[line_val, line_train])\n",
    "    \n",
    "def print_nn_test_error(network):\n",
    "    ''' plt the test error of the network '''\n",
    "    test_error = network.classification_error(X_test, y_test)\n",
    "    print('test error: {:.3f}'.format(test_error))\n",
    "\n",
    "    \n",
    "def plt_nn_wrong_classified_digets(nn, num_to_plt):\n",
    "    '''print some wrong classified digets'''\n",
    "    f, axes = plt.subplots(1, num_to_plt, sharex=True, sharey=True)\n",
    "    for i in range(num_to_plt):\n",
    "        title = \"{} classified as {}\".format(nn.data_error_classification_real[i],nn.data_error_classification_prediction[i])\n",
    "        plot_number(nn.data_error_classification[i],axes[i],title=title)                                   \n",
    "    plt.tight_layout()\n",
    "    \n",
    "#test to plot a number from the data set\n",
    "plot_number(X_train[0],title='test')\n",
    "    "
   ]
  },
  {
   "cell_type": "code",
   "execution_count": null,
   "metadata": {
    "collapsed": true
   },
   "outputs": [],
   "source": [
    "import time\n",
    "\n",
    "def creat_layer(act_func_str, num_fully_connected =[100, 100], init_stddev =0.01):\n",
    "    '''helper to creat mulitple layers for the MNIST dataset'''\n",
    "    input_shape = (None, 28*28)\n",
    "    layers = [InputLayer(input_shape)]\n",
    "\n",
    "    #creat all FullyConnectedLayer layers\n",
    "    for num_units in num_fully_connected:\n",
    "          layers.append(FullyConnectedLayer(\n",
    "                    layers[-1],\n",
    "                    num_units = num_units,\n",
    "                    init_stddev = init_stddev,\n",
    "                    activation_fun=Activation(act_func_str)\n",
    "        ))  \n",
    "    layers.append(FullyConnectedLayer(\n",
    "                    layers[-1],\n",
    "                    num_units=10,\n",
    "                    init_stddev=init_stddev,\n",
    "                    # last layer has no nonlinearity \n",
    "                    # (softmax will be applied in the output layer)\n",
    "                    activation_fun = None \n",
    "    ))\n",
    "    layers.append(SoftmaxOutput(layers[-1]))\n",
    "    return layers"
   ]
  },
  {
   "cell_type": "code",
   "execution_count": 65,
   "metadata": {
    "collapsed": false
   },
   "outputs": [
    {
     "name": "stdout",
     "output_type": "stream",
     "text": [
      "... starting training\n",
      "epoch 0.0000, loss 0.9902, train error 0.3515 valid error 0.3263\n",
      "epoch 1.0000, loss 0.4044, train error 0.1130 valid error 0.1070\n",
      "epoch 2.0000, loss 0.2658, train error 0.0766 valid error 0.0720\n",
      "epoch 3.0000, loss 0.1961, train error 0.0569 valid error 0.0563\n",
      "epoch 4.0000, loss 0.1559, train error 0.0452 valid error 0.0497\n",
      "epoch 5.0000, loss 0.1277, train error 0.0372 valid error 0.0439\n",
      "epoch 6.0000, loss 0.1094, train error 0.0322 valid error 0.0413\n",
      "epoch 7.0000, loss 0.0955, train error 0.0284 valid error 0.0375\n",
      "epoch 8.0000, loss 0.0855, train error 0.0252 valid error 0.0377\n",
      "epoch 9.0000, loss 0.0784, train error 0.0233 valid error 0.0362\n",
      "epoch 10.0000, loss 0.0728, train error 0.0220 valid error 0.0353\n",
      "epoch 11.0000, loss 0.0664, train error 0.0202 valid error 0.0356\n",
      "epoch 12.0000, loss 0.0617, train error 0.0196 valid error 0.0351\n",
      "epoch 13.0000, loss 0.0582, train error 0.0188 valid error 0.0357\n",
      "epoch 14.0000, loss 0.0528, train error 0.0171 valid error 0.0351\n",
      "epoch 15.0000, loss 0.0480, train error 0.0152 valid error 0.0345\n",
      "epoch 16.0000, loss 0.0455, train error 0.0146 valid error 0.0343\n",
      "epoch 17.0000, loss 0.0421, train error 0.0134 valid error 0.0337\n",
      "epoch 18.0000, loss 0.0372, train error 0.0116 valid error 0.0315\n",
      "epoch 19.0000, loss 0.0345, train error 0.0110 valid error 0.0313\n",
      "epoch 20.0000, loss 0.0324, train error 0.0103 valid error 0.0324\n",
      "last valid_error: 0.032\n",
      "Duration: 23.0s\n",
      "test error: 0.036\n"
     ]
    },
    {
     "data": {
      "image/png": "[encoded data removed]",
      "text/plain": [
       "<matplotlib.figure.Figure at 0x105c39128>"
      ]
     },
     "metadata": {},
     "output_type": "display_data"
    },
    {
     "data": {
      "image/png": "[encoded data removed]",
      "text/plain": [
       "<matplotlib.figure.Figure at 0x105c39320>"
      ]
     },
     "metadata": {},
     "output_type": "display_data"
    }
   ],
   "source": [
    "\n",
    "\n",
    "# Setup a dpper MLP / Neural Network\n",
    "layers = creat_layer(num_fully_connected =[50, 50], \n",
    "                     act_func_str = \"relu\")\n",
    "\n",
    "nn = NeuralNetwork(layers)\n",
    "# Train neural network\n",
    "t0 = time.time()\n",
    "nn.train(X_train, y_train, X_valid, y_valid, learning_rate=0.1, \n",
    "         max_epochs=20, batch_size=64, y_one_hot=True)\n",
    "plt_nn_valid_error(nn)\n",
    "t1 = time.time()\n",
    "print('Duration: {:.1f}s'.format(t1-t0))\n",
    "\n",
    "#print some wrong classified digets\n",
    "plt_nn_wrong_classified_digets(nn, 3)\n",
    "print_nn_test_error(nn)\n"
   ]
  },
  {
   "cell_type": "markdown",
   "metadata": {
    "collapsed": true
   },
   "source": [
    "# Figure out a reasonable Network that achieves good performance\n",
    "As the last part of this task, setup a network that works well and gets reasonable accuracy, say ~ 1-3 percent error on the **validation set**. \n",
    "Train this network on the complete data and compute the **test error**. \n",
    "\n",
    "Once you have done this, visualize a few digits from the the test set that the network gets right as well as a few that the network gets wrong!"
   ]
  },
  {
   "cell_type": "markdown",
   "metadata": {
    "collapsed": true
   },
   "source": [
    "good performance acheved by:\n",
    "- increase the number of units to a higher value of fit the data better\n",
    "- therefore the model is more complex -> the learning rate was reduced\n",
    "- disadvantage the training takes way longer\n",
    "- impovement fom an valid erro form to r 0.0569\n",
    "- init_stddev 0.01"
   ]
  },
  {
   "cell_type": "code",
   "execution_count": 58,
   "metadata": {
    "collapsed": false
   },
   "outputs": [],
   "source": []
  },
  {
   "cell_type": "code",
   "execution_count": 69,
   "metadata": {
    "collapsed": false
   },
   "outputs": [
    {
     "name": "stdout",
     "output_type": "stream",
     "text": [
      "... starting training\n",
      "last valid_error: 0.051\n",
      "Duration: 31.3s\n",
      "test error: 0.054\n"
     ]
    },
    {
     "data": {
      "image/png": "[encoded data removed]",
      "text/plain": [
       "<matplotlib.figure.Figure at 0x1059b1be0>"
      ]
     },
     "metadata": {},
     "output_type": "display_data"
    }
   ],
   "source": [
    "# Setup a MLP / Neural Network\n",
    "layers = creat_layer(num_fully_connected =[100, 100], \n",
    "                     act_func_str = \"relu\")\n",
    "\n",
    "nn_deeper = NeuralNetwork(layers)\n",
    "# Train neural network\n",
    "t0 = time.time()\n",
    "nn_deeper.train(X_train, y_train, X_valid, y_valid, learning_rate= 0.1, \n",
    "         max_epochs=25, batch_size=500, y_one_hot=True, do_print = False)\n",
    "plt_nn_valid_error(nn_deeper) \n",
    "print('Duration: {:.1f}s'.format(time.time()-t0))\n",
    "print_nn_test_error(nn_deeper)"
   ]
  },
  {
   "cell_type": "markdown",
   "metadata": {
    "collapsed": true
   },
   "source": [
    "# hyper parameter optimization with Tree of Parzen Estimators (TPE)\n",
    "now we use Tree of Parzen Estimators to find good parameter for:\n",
    "- learningrate\n",
    "- activation function\n",
    "- number of fully connected layers and hidden units \n",
    "- number of epochs\n",
    "we use https://github.com/hyperopt/hyperopt libary for the optimization"
   ]
  },
  {
   "cell_type": "code",
   "execution_count": 16,
   "metadata": {
    "collapsed": true
   },
   "outputs": [],
   "source": [
    "import hyperopt\n",
    "from hyperopt import hp\n",
    "from pprint import pprint\n",
    "from functools import partial\n",
    "from math import  log"
   ]
  },
  {
   "cell_type": "code",
   "execution_count": 17,
   "metadata": {
    "collapsed": true
   },
   "outputs": [],
   "source": [
    "def sample_loss_hyperopt(param):\n",
    "    print(\"===========================================\")\n",
    "    print(\"Parameters:\")\n",
    "    print(param)\n",
    "    layer_sizes = [int(n) for n in param['layers']['n_units_layer']]\n",
    "    lr = param['lr']\n",
    "    act_func_type = param['act_func_type']\n",
    "    epochs = int(param['epochs'])\n",
    "    layers = creat_layer(num_fully_connected = layer_sizes, \n",
    "                     act_func_str = act_func_type)\n",
    "    nn = NeuralNetwork(layers)\n",
    "    # Train neural network\n",
    "    t0 = time.time()\n",
    "    nn.train(X_train, y_train, X_valid, y_valid, learning_rate= lr, \n",
    "             max_epochs = epochs, batch_size=100, y_one_hot=True, do_print = False)\n",
    "    print('valid_error: {:.3f}'.format(nn.valid_error[-1]))\n",
    "    return nn.valid_error[-1]\n",
    "\n",
    "def optimize_hyperopt():\n",
    "    '''define our parameters in hyperopt and run the optimization.'''\n",
    "    parameter_space = {\n",
    "        #learning rate\n",
    "        'lr':hp.loguniform('lr',log(1e-2) , log(1e-1 )),\n",
    "         'epochs': hp.choice('epochs', [\n",
    "            10, 15, 20\n",
    "        ]),\n",
    "        'act_func_type': hp.choice('act_func_type', [\n",
    "            'sigmoid',\n",
    "            'tanh',\n",
    "            'relu'\n",
    "        ]),\n",
    "        #choose between one or two layers\n",
    "        'layers': hp.choice('layers', [{\n",
    "            'n_layers': 1,\n",
    "            'n_units_layer': [\n",
    "                hp.quniform('n_units_layer_11', 50, 500, q=1),\n",
    "            ],\n",
    "        }, {\n",
    "            'n_layers': 2,\n",
    "            'n_units_layer': [\n",
    "                hp.quniform('n_units_layer_21', 50, 200, q=1),\n",
    "                hp.quniform('n_units_layer_22', 50, 200, q=1),\n",
    "            ],\n",
    "        }, {\n",
    "            'n_layers': 3,\n",
    "            'n_units_layer': [\n",
    "                hp.quniform('n_units_layer_31', 50, 200, q=1),\n",
    "                hp.quniform('n_units_layer_32', 50, 200, q=1),\n",
    "                hp.quniform('n_units_layer_33', 50, 200, q=1),\n",
    "            ],\n",
    "        }\n",
    "        ])\n",
    "    }\n",
    "    #Tree of Parzen Estimators (TPE)\n",
    "    tpe = partial(\n",
    "        hyperopt.tpe.suggest,\n",
    "        n_EI_candidates=100,# Sample 100 candidate and select candidate that# has highest Expected Improvement (EI)\n",
    "        gamma=0.2,# Use 20% of best observations to estimate next# set of parameters\n",
    "        n_startup_jobs=20,# First 20 trials are going to be random\n",
    "    )\n",
    "    best_model = hyperopt.fmin(sample_loss_hyperopt,\n",
    "                               space = parameter_space,\n",
    "                               algo = tpe,\n",
    "                               # algo=tpe.suggest,\n",
    "                               max_evals=1000)\n",
    "\n",
    "    print(best_model)\n",
    "    print(hyperopt.space_eval(parameter_space, best_model))"
   ]
  },
  {
   "cell_type": "code",
   "execution_count": 18,
   "metadata": {
    "collapsed": false,
    "scrolled": true
   },
   "outputs": [
    {
     "name": "stdout",
     "output_type": "stream",
     "text": [
      "Duration: 0.0s\n"
     ]
    }
   ],
   "source": [
    "t0 = time.time()\n",
    "#optimize_hyperopt()\n",
    "print('Duration: {:.1f}s'.format(time.time()-t0))"
   ]
  },
  {
   "cell_type": "code",
   "execution_count": 57,
   "metadata": {
    "collapsed": false
   },
   "outputs": [
    {
     "name": "stdout",
     "output_type": "stream",
     "text": [
      "... starting training\n",
      "last valid_error: 0.026\n",
      "Duration: 45.4s\n",
      "test error: 0.029\n"
     ]
    },
    {
     "data": {
      "image/png": "[encoded data removed]",
      "text/plain": [
       "<matplotlib.figure.Figure at 0x105afaa20>"
      ]
     },
     "metadata": {},
     "output_type": "display_data"
    },
    {
     "data": {
      "image/png": "[encoded data removed]",
      "text/plain": [
       "<matplotlib.figure.Figure at 0x10538c208>"
      ]
     },
     "metadata": {},
     "output_type": "display_data"
    }
   ],
   "source": [
    "# Setup the best nn from the opitmation\n",
    "hyperopt_layers = creat_layer(num_fully_connected =[147, 161], \n",
    "                     act_func_str = \"relu\")\n",
    "\n",
    "nn_hyperopt = NeuralNetwork(hyperopt_layers)\n",
    "# Train neural network\n",
    "t0 = time.time()\n",
    "nn_hyperopt.train(X_train, y_train, X_valid, y_valid, learning_rate= 0.09952244971405384, \n",
    "         max_epochs=20, batch_size=100, y_one_hot = True, do_print = False)\n",
    "plt_nn_valid_error(nn_hyperopt) \n",
    "print('Duration: {:.1f}s'.format(time.time() - t0))\n",
    "\n",
    "#print some wrong classified digets\n",
    "plt_nn_wrong_classified_digets(nn, 3)\n",
    "print_nn_test_error(nn_hyperopt)"
   ]
  },
  {
   "cell_type": "code",
   "execution_count": null,
   "metadata": {
    "collapsed": true
   },
   "outputs": [],
   "source": []
  }
 ],
 "metadata": {
  "anaconda-cloud": {},
  "kernelspec": {
   "display_name": "Python [conda root]",
   "language": "python",
   "name": "conda-root-py"
  },
  "language_info": {
   "codemirror_mode": {
    "name": "ipython",
    "version": 3
   },
   "file_extension": ".py",
   "mimetype": "text/x-python",
   "name": "python",
   "nbconvert_exporter": "python",
   "pygments_lexer": "ipython3",
   "version": "3.5.2"
  }
 },
 "nbformat": 4,
 "nbformat_minor": 1
}
